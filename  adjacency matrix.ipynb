{
 "cells": [
  {
   "cell_type": "markdown",
   "metadata": {},
   "source": [
    "### Adjacency Matrix\n",
    " \n",
    "* An adjacency matrix for a graph (digraph) G (V, A) is an M matrix of dimension | V x V where the element M i, j will be equal to 1, there is an edge from i to j or 0, otherwise."
   ]
  },
  {
   "cell_type": "code",
   "execution_count": 10,
   "metadata": {},
   "outputs": [],
   "source": [
    "import networkx as nx\n",
    "import matplotlib.pyplot as plt\n",
    "import numpy as np\n",
    "import pandas as pd\n",
    "\n",
    "%matplotlib inline"
   ]
  },
  {
   "cell_type": "code",
   "execution_count": 19,
   "metadata": {},
   "outputs": [],
   "source": [
    "class Graph:\n",
    "\n",
    "    def __init__(self, nodes):\n",
    "        self.nodes = nodes\n",
    "        self.graph = np.zeros((nodes, nodes), dtype=int)\n",
    "        self.check_node = [False] * nodes\n",
    "\n",
    "    def add_edge(self, u, v):\n",
    "        self.graph[u - 1][v - 1], self.graph[v - 1][u - 1] = 1, 1\n",
    "\n",
    "    def graph_data(self):\n",
    "        data = pd.DataFrame(self.graph, index=[idx for idx in range(0, self.nodes)],\n",
    "                            columns=[idx for idx in range(0, self.nodes)])\n",
    "        adjacency_matrix = data.values\n",
    "        return data, adjacency_matrix\n",
    "\n",
    "    def relation(self):\n",
    "        _, rel = self.graph_data()\n",
    "        rows, cols = np.where(rel == 1)\n",
    "        edges = zip(rows.tolist(), cols.tolist())\n",
    "        for edge in edges:\n",
    "            print(f\"\\nedge ==> {edge} = {1}\", end='')\n",
    "    \n",
    "    def dfs(self, u):\n",
    "        self.check_node[u - 1] = True\n",
    "        print(f\"check node {u}\")\n",
    "        for node in range(self.nodes):\n",
    "            if self.graph[u - 1][node - 1] == 1 and self.check_node[node - 1] == False:\n",
    "                self.dfs(node)\n",
    "\n",
    "    def plot_graph(self):\n",
    "        _, adjacency_matrix = self.graph_data()\n",
    "        rows, cols = np.where(adjacency_matrix == 1)\n",
    "        edges = zip(rows.tolist(), cols.tolist())\n",
    "        G = nx.Graph()\n",
    "        G.add_edges_from(edges)\n",
    "        pos = nx.spring_layout(G)\n",
    "        nx.draw(G, pos, node_size=500, labels={node: node for node in G.nodes()}, node_color='pink', edge_color='black')\n",
    "        nx.draw_networkx_edge_labels(G, pos, edge_labels={edge: 1 for edge in G.edges()}, font_color='red')\n",
    "        plt.show()"
   ]
  },
  {
   "cell_type": "code",
   "execution_count": 20,
   "metadata": {},
   "outputs": [],
   "source": [
    "graph = Graph(5)\n",
    "graph.add_edge(1, 3)\n",
    "graph.add_edge(3, 4)\n",
    "graph.add_edge(2, 3)\n",
    "graph.add_edge(3, 5)\n",
    "graph.add_edge(4, 5)"
   ]
  },
  {
   "cell_type": "code",
   "execution_count": 21,
   "metadata": {},
   "outputs": [],
   "source": [
    "data, adjacency_matrix = graph.graph_data()"
   ]
  },
  {
   "cell_type": "code",
   "execution_count": 22,
   "metadata": {},
   "outputs": [
    {
     "output_type": "execute_result",
     "data": {
      "text/plain": "   0  1  2  3  4\n0  0  0  1  0  0\n1  0  0  1  0  0\n2  1  1  0  1  1\n3  0  0  1  0  1\n4  0  0  1  1  0",
      "text/html": "<div>\n<style scoped>\n    .dataframe tbody tr th:only-of-type {\n        vertical-align: middle;\n    }\n\n    .dataframe tbody tr th {\n        vertical-align: top;\n    }\n\n    .dataframe thead th {\n        text-align: right;\n    }\n</style>\n<table border=\"1\" class=\"dataframe\">\n  <thead>\n    <tr style=\"text-align: right;\">\n      <th></th>\n      <th>0</th>\n      <th>1</th>\n      <th>2</th>\n      <th>3</th>\n      <th>4</th>\n    </tr>\n  </thead>\n  <tbody>\n    <tr>\n      <th>0</th>\n      <td>0</td>\n      <td>0</td>\n      <td>1</td>\n      <td>0</td>\n      <td>0</td>\n    </tr>\n    <tr>\n      <th>1</th>\n      <td>0</td>\n      <td>0</td>\n      <td>1</td>\n      <td>0</td>\n      <td>0</td>\n    </tr>\n    <tr>\n      <th>2</th>\n      <td>1</td>\n      <td>1</td>\n      <td>0</td>\n      <td>1</td>\n      <td>1</td>\n    </tr>\n    <tr>\n      <th>3</th>\n      <td>0</td>\n      <td>0</td>\n      <td>1</td>\n      <td>0</td>\n      <td>1</td>\n    </tr>\n    <tr>\n      <th>4</th>\n      <td>0</td>\n      <td>0</td>\n      <td>1</td>\n      <td>1</td>\n      <td>0</td>\n    </tr>\n  </tbody>\n</table>\n</div>"
     },
     "metadata": {},
     "execution_count": 22
    }
   ],
   "source": [
    "data.head()"
   ]
  },
  {
   "cell_type": "code",
   "execution_count": 23,
   "metadata": {
    "tags": []
   },
   "outputs": [
    {
     "output_type": "stream",
     "name": "stdout",
     "text": "check node 1\ncheck node 3\ncheck node 0\ncheck node 4\ncheck node 2\n"
    }
   ],
   "source": [
    "graph.dfs(1)"
   ]
  },
  {
   "cell_type": "code",
   "execution_count": 24,
   "metadata": {
    "tags": []
   },
   "outputs": [
    {
     "output_type": "stream",
     "name": "stdout",
     "text": "\nedge ==> (0, 2) = 1\nedge ==> (1, 2) = 1\nedge ==> (2, 0) = 1\nedge ==> (2, 1) = 1\nedge ==> (2, 3) = 1\nedge ==> (2, 4) = 1\nedge ==> (3, 2) = 1\nedge ==> (3, 4) = 1\nedge ==> (4, 2) = 1\nedge ==> (4, 3) = 1"
    }
   ],
   "source": [
    "graph.relation()"
   ]
  },
  {
   "cell_type": "code",
   "execution_count": 25,
   "metadata": {},
   "outputs": [
    {
     "output_type": "display_data",
     "data": {
      "text/plain": "<Figure size 432x288 with 1 Axes>",
      "image/svg+xml": "<?xml version=\"1.0\" encoding=\"utf-8\" standalone=\"no\"?>\n<!DOCTYPE svg PUBLIC \"-//W3C//DTD SVG 1.1//EN\"\n  \"http://www.w3.org/Graphics/SVG/1.1/DTD/svg11.dtd\">\n<!-- Created with matplotlib (https://matplotlib.org/) -->\n<svg height=\"302.4pt\" version=\"1.1\" viewBox=\"0 0 446.4 302.4\" width=\"446.4pt\" xmlns=\"http://www.w3.org/2000/svg\" xmlns:xlink=\"http://www.w3.org/1999/xlink\">\n <defs>\n  <style type=\"text/css\">\n*{stroke-linecap:butt;stroke-linejoin:round;}\n  </style>\n </defs>\n <g id=\"figure_1\">\n  <g id=\"patch_1\">\n   <path d=\"M 0 302.4 \nL 446.4 302.4 \nL 446.4 0 \nL 0 0 \nz\n\" style=\"fill:#ffffff;\"/>\n  </g>\n  <g id=\"axes_1\">\n   <g id=\"LineCollection_1\">\n    <path clip-path=\"url(#pb2e372b107)\" d=\"M 355.903145 20.290909 \nL 236.245109 173.994113 \n\" style=\"fill:none;stroke:#000000;\"/>\n    <path clip-path=\"url(#pb2e372b107)\" d=\"M 236.245109 173.994113 \nL 419.563636 282.109091 \n\" style=\"fill:none;stroke:#000000;\"/>\n    <path clip-path=\"url(#pb2e372b107)\" d=\"M 236.245109 173.994113 \nL 26.836364 142.682796 \n\" style=\"fill:none;stroke:#000000;\"/>\n    <path clip-path=\"url(#pb2e372b107)\" d=\"M 236.245109 173.994113 \nL 56.596644 264.064119 \n\" style=\"fill:none;stroke:#000000;\"/>\n    <path clip-path=\"url(#pb2e372b107)\" d=\"M 26.836364 142.682796 \nL 56.596644 264.064119 \n\" style=\"fill:none;stroke:#000000;\"/>\n   </g>\n   <g id=\"text_1\">\n    <g id=\"patch_2\">\n     <path clip-path=\"url(#pb2e372b107)\" d=\"M 300.305512 104.468262 \nL 304.21397 99.447768 \nQ 306.056858 97.080541 303.689631 95.237653 \nL 296.052857 89.29242 \nQ 293.68563 87.449532 291.842742 89.81676 \nL 287.934284 94.837254 \nQ 286.091396 97.204481 288.458624 99.047369 \nL 296.095397 104.992602 \nQ 298.462624 106.83549 300.305512 104.468262 \nz\n\" style=\"fill:#ffffff;stroke:#ffffff;stroke-linejoin:miter;\"/>\n    </g>\n    <g clip-path=\"url(#pb2e372b107)\">\n     <!-- 1 -->\n     <defs>\n      <path d=\"M 12.40625 8.296875 \nL 28.515625 8.296875 \nL 28.515625 63.921875 \nL 10.984375 60.40625 \nL 10.984375 69.390625 \nL 28.421875 72.90625 \nL 38.28125 72.90625 \nL 38.28125 8.296875 \nL 54.390625 8.296875 \nL 54.390625 0 \nL 12.40625 0 \nz\n\" id=\"DejaVuSans-49\"/>\n     </defs>\n     <g style=\"fill:#ff0000;\" transform=\"translate(296.297254 101.347831)rotate(-52.099221)scale(0.1 -0.1)\">\n      <use xlink:href=\"#DejaVuSans-49\"/>\n     </g>\n    </g>\n   </g>\n   <g id=\"text_2\">\n    <g id=\"patch_3\">\n     <path clip-path=\"url(#pb2e372b107)\" d=\"M 321.181942 233.187766 \nL 326.662329 236.41991 \nQ 329.246402 237.943908 330.7704 235.359835 \nL 335.686879 227.023509 \nQ 337.210876 224.439436 334.626804 222.915438 \nL 329.146416 219.683294 \nQ 326.562343 218.159296 325.038346 220.743369 \nL 320.121867 229.079695 \nQ 318.597869 231.663768 321.181942 233.187766 \nz\n\" style=\"fill:#ffffff;stroke:#ffffff;stroke-linejoin:miter;\"/>\n    </g>\n    <g clip-path=\"url(#pb2e372b107)\">\n     <!-- 1 -->\n     <g style=\"fill:#ff0000;\" transform=\"translate(323.762419 228.812338)rotate(-329.469355)scale(0.1 -0.1)\">\n      <use xlink:href=\"#DejaVuSans-49\"/>\n     </g>\n    </g>\n   </g>\n   <g id=\"text_3\">\n    <g id=\"patch_4\">\n     <path clip-path=\"url(#pb2e372b107)\" d=\"M 127.235233 165.620892 \nL 133.527781 166.561769 \nQ 136.494797 167.005405 136.938433 164.038389 \nL 138.36962 154.46667 \nQ 138.813256 151.499653 135.84624 151.056017 \nL 129.553692 150.11514 \nQ 126.586675 149.671504 126.14304 152.638521 \nL 124.711852 162.21024 \nQ 124.268217 165.177256 127.235233 165.620892 \nz\n\" style=\"fill:#ffffff;stroke:#ffffff;stroke-linejoin:miter;\"/>\n    </g>\n    <g clip-path=\"url(#pb2e372b107)\">\n     <!-- 1 -->\n     <g style=\"fill:#ff0000;\" transform=\"translate(127.98641 160.597053)rotate(-351.495994)scale(0.1 -0.1)\">\n      <use xlink:href=\"#DejaVuSans-49\"/>\n     </g>\n    </g>\n   </g>\n   <g id=\"text_4\">\n    <g id=\"patch_5\">\n     <path clip-path=\"url(#pb2e372b107)\" d=\"M 147.090441 227.462558 \nL 152.778118 224.610938 \nQ 155.45993 223.266363 154.115355 220.58455 \nL 149.7777 211.932912 \nQ 148.433125 209.251099 145.751312 210.595675 \nL 140.063635 213.447294 \nQ 137.381823 214.791869 138.726398 217.473682 \nL 143.064053 226.12532 \nQ 144.408628 228.807133 147.090441 227.462558 \nz\n\" style=\"fill:#ffffff;stroke:#ffffff;stroke-linejoin:miter;\"/>\n    </g>\n    <g clip-path=\"url(#pb2e372b107)\">\n     <!-- 1 -->\n     <g style=\"fill:#ff0000;\" transform=\"translate(144.813767 222.921635)rotate(-26.627725)scale(0.1 -0.1)\">\n      <use xlink:href=\"#DejaVuSans-49\"/>\n     </g>\n    </g>\n   </g>\n   <g id=\"text_5\">\n    <g id=\"patch_6\">\n     <path clip-path=\"url(#pb2e372b107)\" d=\"M 33.345398 202.150414 \nL 34.860482 208.32989 \nQ 35.574864 211.243592 38.488566 210.52921 \nL 47.888289 208.224585 \nQ 50.801991 207.510204 50.08761 204.596502 \nL 48.572525 198.417026 \nQ 47.858144 195.503324 44.944442 196.217705 \nL 35.544718 198.52233 \nQ 32.631016 199.236712 33.345398 202.150414 \nz\n\" style=\"fill:#ffffff;stroke:#ffffff;stroke-linejoin:miter;\"/>\n    </g>\n    <g clip-path=\"url(#pb2e372b107)\">\n     <!-- 1 -->\n     <g style=\"fill:#ff0000;\" transform=\"translate(38.278963 200.940802)rotate(-283.776033)scale(0.1 -0.1)\">\n      <use xlink:href=\"#DejaVuSans-49\"/>\n     </g>\n    </g>\n   </g>\n   <g id=\"PathCollection_1\">\n    <defs>\n     <path d=\"M 0 11.18034 \nC 2.965061 11.18034 5.80908 10.002309 7.905694 7.905694 \nC 10.002309 5.80908 11.18034 2.965061 11.18034 0 \nC 11.18034 -2.965061 10.002309 -5.80908 7.905694 -7.905694 \nC 5.80908 -10.002309 2.965061 -11.18034 0 -11.18034 \nC -2.965061 -11.18034 -5.80908 -10.002309 -7.905694 -7.905694 \nC -10.002309 -5.80908 -11.18034 -2.965061 -11.18034 0 \nC -11.18034 2.965061 -10.002309 5.80908 -7.905694 7.905694 \nC -5.80908 10.002309 -2.965061 11.18034 0 11.18034 \nz\n\" id=\"m1dcb9092ec\" style=\"stroke:#ffc0cb;\"/>\n    </defs>\n    <g clip-path=\"url(#pb2e372b107)\">\n     <use style=\"fill:#ffc0cb;stroke:#ffc0cb;\" x=\"355.903145\" xlink:href=\"#m1dcb9092ec\" y=\"20.290909\"/>\n     <use style=\"fill:#ffc0cb;stroke:#ffc0cb;\" x=\"236.245109\" xlink:href=\"#m1dcb9092ec\" y=\"173.994113\"/>\n     <use style=\"fill:#ffc0cb;stroke:#ffc0cb;\" x=\"419.563636\" xlink:href=\"#m1dcb9092ec\" y=\"282.109091\"/>\n     <use style=\"fill:#ffc0cb;stroke:#ffc0cb;\" x=\"26.836364\" xlink:href=\"#m1dcb9092ec\" y=\"142.682796\"/>\n     <use style=\"fill:#ffc0cb;stroke:#ffc0cb;\" x=\"56.596644\" xlink:href=\"#m1dcb9092ec\" y=\"264.064119\"/>\n    </g>\n   </g>\n   <g id=\"text_6\">\n    <g clip-path=\"url(#pb2e372b107)\">\n     <!-- 0 -->\n     <defs>\n      <path d=\"M 31.78125 66.40625 \nQ 24.171875 66.40625 20.328125 58.90625 \nQ 16.5 51.421875 16.5 36.375 \nQ 16.5 21.390625 20.328125 13.890625 \nQ 24.171875 6.390625 31.78125 6.390625 \nQ 39.453125 6.390625 43.28125 13.890625 \nQ 47.125 21.390625 47.125 36.375 \nQ 47.125 51.421875 43.28125 58.90625 \nQ 39.453125 66.40625 31.78125 66.40625 \nz\nM 31.78125 74.21875 \nQ 44.046875 74.21875 50.515625 64.515625 \nQ 56.984375 54.828125 56.984375 36.375 \nQ 56.984375 17.96875 50.515625 8.265625 \nQ 44.046875 -1.421875 31.78125 -1.421875 \nQ 19.53125 -1.421875 13.0625 8.265625 \nQ 6.59375 17.96875 6.59375 36.375 \nQ 6.59375 54.828125 13.0625 64.515625 \nQ 19.53125 74.21875 31.78125 74.21875 \nz\n\" id=\"DejaVuSans-48\"/>\n     </defs>\n     <g transform=\"translate(352.085645 23.602159)scale(0.12 -0.12)\">\n      <use xlink:href=\"#DejaVuSans-48\"/>\n     </g>\n    </g>\n   </g>\n   <g id=\"text_7\">\n    <g clip-path=\"url(#pb2e372b107)\">\n     <!-- 2 -->\n     <defs>\n      <path d=\"M 19.1875 8.296875 \nL 53.609375 8.296875 \nL 53.609375 0 \nL 7.328125 0 \nL 7.328125 8.296875 \nQ 12.9375 14.109375 22.625 23.890625 \nQ 32.328125 33.6875 34.8125 36.53125 \nQ 39.546875 41.84375 41.421875 45.53125 \nQ 43.3125 49.21875 43.3125 52.78125 \nQ 43.3125 58.59375 39.234375 62.25 \nQ 35.15625 65.921875 28.609375 65.921875 \nQ 23.96875 65.921875 18.8125 64.3125 \nQ 13.671875 62.703125 7.8125 59.421875 \nL 7.8125 69.390625 \nQ 13.765625 71.78125 18.9375 73 \nQ 24.125 74.21875 28.421875 74.21875 \nQ 39.75 74.21875 46.484375 68.546875 \nQ 53.21875 62.890625 53.21875 53.421875 \nQ 53.21875 48.921875 51.53125 44.890625 \nQ 49.859375 40.875 45.40625 35.40625 \nQ 44.1875 33.984375 37.640625 27.21875 \nQ 31.109375 20.453125 19.1875 8.296875 \nz\n\" id=\"DejaVuSans-50\"/>\n     </defs>\n     <g transform=\"translate(232.427609 177.305363)scale(0.12 -0.12)\">\n      <use xlink:href=\"#DejaVuSans-50\"/>\n     </g>\n    </g>\n   </g>\n   <g id=\"text_8\">\n    <g clip-path=\"url(#pb2e372b107)\">\n     <!-- 1 -->\n     <g transform=\"translate(415.746136 285.420341)scale(0.12 -0.12)\">\n      <use xlink:href=\"#DejaVuSans-49\"/>\n     </g>\n    </g>\n   </g>\n   <g id=\"text_9\">\n    <g clip-path=\"url(#pb2e372b107)\">\n     <!-- 3 -->\n     <defs>\n      <path d=\"M 40.578125 39.3125 \nQ 47.65625 37.796875 51.625 33 \nQ 55.609375 28.21875 55.609375 21.1875 \nQ 55.609375 10.40625 48.1875 4.484375 \nQ 40.765625 -1.421875 27.09375 -1.421875 \nQ 22.515625 -1.421875 17.65625 -0.515625 \nQ 12.796875 0.390625 7.625 2.203125 \nL 7.625 11.71875 \nQ 11.71875 9.328125 16.59375 8.109375 \nQ 21.484375 6.890625 26.8125 6.890625 \nQ 36.078125 6.890625 40.9375 10.546875 \nQ 45.796875 14.203125 45.796875 21.1875 \nQ 45.796875 27.640625 41.28125 31.265625 \nQ 36.765625 34.90625 28.71875 34.90625 \nL 20.21875 34.90625 \nL 20.21875 43.015625 \nL 29.109375 43.015625 \nQ 36.375 43.015625 40.234375 45.921875 \nQ 44.09375 48.828125 44.09375 54.296875 \nQ 44.09375 59.90625 40.109375 62.90625 \nQ 36.140625 65.921875 28.71875 65.921875 \nQ 24.65625 65.921875 20.015625 65.03125 \nQ 15.375 64.15625 9.8125 62.3125 \nL 9.8125 71.09375 \nQ 15.4375 72.65625 20.34375 73.4375 \nQ 25.25 74.21875 29.59375 74.21875 \nQ 40.828125 74.21875 47.359375 69.109375 \nQ 53.90625 64.015625 53.90625 55.328125 \nQ 53.90625 49.265625 50.4375 45.09375 \nQ 46.96875 40.921875 40.578125 39.3125 \nz\n\" id=\"DejaVuSans-51\"/>\n     </defs>\n     <g transform=\"translate(23.018864 145.994046)scale(0.12 -0.12)\">\n      <use xlink:href=\"#DejaVuSans-51\"/>\n     </g>\n    </g>\n   </g>\n   <g id=\"text_10\">\n    <g clip-path=\"url(#pb2e372b107)\">\n     <!-- 4 -->\n     <defs>\n      <path d=\"M 37.796875 64.3125 \nL 12.890625 25.390625 \nL 37.796875 25.390625 \nz\nM 35.203125 72.90625 \nL 47.609375 72.90625 \nL 47.609375 25.390625 \nL 58.015625 25.390625 \nL 58.015625 17.1875 \nL 47.609375 17.1875 \nL 47.609375 0 \nL 37.796875 0 \nL 37.796875 17.1875 \nL 4.890625 17.1875 \nL 4.890625 26.703125 \nz\n\" id=\"DejaVuSans-52\"/>\n     </defs>\n     <g transform=\"translate(52.779144 267.375369)scale(0.12 -0.12)\">\n      <use xlink:href=\"#DejaVuSans-52\"/>\n     </g>\n    </g>\n   </g>\n  </g>\n </g>\n <defs>\n  <clipPath id=\"pb2e372b107\">\n   <rect height=\"288\" width=\"432\" x=\"7.2\" y=\"7.2\"/>\n  </clipPath>\n </defs>\n</svg>\n",
      "image/png": "[encoded data removed]"
     },
     "metadata": {}
    }
   ],
   "source": [
    "graph.plot_graph()"
   ]
  },
  {
   "cell_type": "code",
   "execution_count": null,
   "metadata": {},
   "outputs": [],
   "source": []
  }
 ],
 "metadata": {
  "kernelspec": {
   "display_name": "Python 3",
   "language": "python",
   "name": "python3"
  },
  "language_info": {
   "codemirror_mode": {
    "name": "ipython",
    "version": 3
   },
   "file_extension": ".py",
   "mimetype": "text/x-python",
   "name": "python",
   "nbconvert_exporter": "python",
   "pygments_lexer": "ipython3",
   "version": "3.8.3-final"
  }
 },
 "nbformat": 4,
 "nbformat_minor": 4
}