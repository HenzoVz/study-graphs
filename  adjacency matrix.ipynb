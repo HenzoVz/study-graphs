{
 "cells": [
  {
   "cell_type": "code",
   "execution_count": 11,
   "metadata": {},
   "outputs": [],
   "source": [
    "import networkx as nx\n",
    "import matplotlib.pyplot as plt\n",
    "import numpy as np\n",
    "import pandas as pd\n",
    "\n",
    "%matplotlib inline"
   ]
  },
  {
   "cell_type": "code",
   "execution_count": 146,
   "metadata": {},
   "outputs": [],
   "source": [
    "class Graph:\n",
    "\n",
    "    def __init__(self, nodes):\n",
    "        self.nodes = nodes\n",
    "        self.graph = np.zeros((nodes, nodes), dtype=int)\n",
    "\n",
    "    def add_edge(self, u, v):\n",
    "        self.graph[u - 1][v - 1], self.graph[v - 1][u - 1] = 1, 1\n",
    "\n",
    "    def graph_data(self):\n",
    "        data = pd.DataFrame(graph.graph, index=[idx for idx in range(0, graph.nodes)], columns=[idx for idx in range(0, graph.nodes)])\n",
    "        adjacency_matrix = graph_data.values\n",
    "        return data, adjacency_matrix\n",
    "\n",
    "    def relation(self):\n",
    "        _, rel = self.graph_data()\n",
    "        rows, cols = np.where(rel == 1)\n",
    "        edges = zip(rows.tolist(), cols.tolist())\n",
    "        for edge in edges:\n",
    "            print(f\"\\n edge ==> {edge} = {1}\", end= '')\n",
    "    \n",
    "    def plot_graph(self, adjacency_matrix):\n",
    "        rows, cols = np.where(adjacency_matrix == 1)\n",
    "        edges = zip(rows.tolist(), cols.tolist())\n",
    "        G = nx.Graph()\n",
    "        G.add_edges_from(edges)\n",
    "        pos = nx.spring_layout(G)\n",
    "        nx.draw(G,pos, node_size=500, labels={node:node for node in G.nodes()}, node_color='pink',edge_color='black')\n",
    "        nx.draw_networkx_edge_labels(G, pos, edge_labels={edge: 1 for edge in G.edges()}, font_color='red')\n",
    "        plt.show()\n",
    "        "
   ]
  },
  {
   "cell_type": "code",
   "execution_count": 147,
   "metadata": {},
   "outputs": [],
   "source": [
    "graph = Graph(5)\n",
    "graph.add_edge(1, 3)\n",
    "graph.add_edge(3, 4)\n",
    "graph.add_edge(2, 3)\n",
    "graph.add_edge(3, 5)\n",
    "graph.add_edge(4, 5)"
   ]
  },
  {
   "cell_type": "code",
   "execution_count": 148,
   "metadata": {},
   "outputs": [],
   "source": [
    "data, adjacency_matrix = graph.graph_data()"
   ]
  },
  {
   "cell_type": "code",
   "execution_count": 149,
   "metadata": {},
   "outputs": [
    {
     "data": {
      "text/html": [
       "<div>\n",
       "<style scoped>\n",
       "    .dataframe tbody tr th:only-of-type {\n",
       "        vertical-align: middle;\n",
       "    }\n",
       "\n",
       "    .dataframe tbody tr th {\n",
       "        vertical-align: top;\n",
       "    }\n",
       "\n",
       "    .dataframe thead th {\n",
       "        text-align: right;\n",
       "    }\n",
       "</style>\n",
       "<table border=\"1\" class=\"dataframe\">\n",
       "  <thead>\n",
       "    <tr style=\"text-align: right;\">\n",
       "      <th></th>\n",
       "      <th>0</th>\n",
       "      <th>1</th>\n",
       "      <th>2</th>\n",
       "      <th>3</th>\n",
       "      <th>4</th>\n",
       "    </tr>\n",
       "  </thead>\n",
       "  <tbody>\n",
       "    <tr>\n",
       "      <th>0</th>\n",
       "      <td>0</td>\n",
       "      <td>0</td>\n",
       "      <td>1</td>\n",
       "      <td>0</td>\n",
       "      <td>0</td>\n",
       "    </tr>\n",
       "    <tr>\n",
       "      <th>1</th>\n",
       "      <td>0</td>\n",
       "      <td>0</td>\n",
       "      <td>1</td>\n",
       "      <td>0</td>\n",
       "      <td>0</td>\n",
       "    </tr>\n",
       "    <tr>\n",
       "      <th>2</th>\n",
       "      <td>1</td>\n",
       "      <td>1</td>\n",
       "      <td>0</td>\n",
       "      <td>1</td>\n",
       "      <td>1</td>\n",
       "    </tr>\n",
       "    <tr>\n",
       "      <th>3</th>\n",
       "      <td>0</td>\n",
       "      <td>0</td>\n",
       "      <td>1</td>\n",
       "      <td>0</td>\n",
       "      <td>1</td>\n",
       "    </tr>\n",
       "    <tr>\n",
       "      <th>4</th>\n",
       "      <td>0</td>\n",
       "      <td>0</td>\n",
       "      <td>1</td>\n",
       "      <td>1</td>\n",
       "      <td>0</td>\n",
       "    </tr>\n",
       "  </tbody>\n",
       "</table>\n",
       "</div>"
      ],
      "text/plain": [
       "   0  1  2  3  4\n",
       "0  0  0  1  0  0\n",
       "1  0  0  1  0  0\n",
       "2  1  1  0  1  1\n",
       "3  0  0  1  0  1\n",
       "4  0  0  1  1  0"
      ]
     },
     "execution_count": 149,
     "metadata": {},
     "output_type": "execute_result"
    }
   ],
   "source": [
    "data.head()"
   ]
  },
  {
   "cell_type": "code",
   "execution_count": 150,
   "metadata": {},
   "outputs": [
    {
     "name": "stdout",
     "output_type": "stream",
     "text": [
      "\n",
      " edge ==> (0, 2) = 1\n",
      " edge ==> (1, 2) = 1\n",
      " edge ==> (2, 0) = 1\n",
      " edge ==> (2, 1) = 1\n",
      " edge ==> (2, 3) = 1\n",
      " edge ==> (2, 4) = 1\n",
      " edge ==> (3, 2) = 1\n",
      " edge ==> (3, 4) = 1\n",
      " edge ==> (4, 2) = 1\n",
      " edge ==> (4, 3) = 1"
     ]
    }
   ],
   "source": [
    "graph.relation()"
   ]
  },
  {
   "cell_type": "code",
   "execution_count": 151,
   "metadata": {},
   "outputs": [
    {
     "data": {
      "image/png": "[encoded data removed]",
      "text/plain": [
       "<Figure size 432x288 with 1 Axes>"
      ]
     },
     "metadata": {},
     "output_type": "display_data"
    }
   ],
   "source": [
    "graph.plot_graph(adjacency_matrix)"
   ]
  }
 ],
 "metadata": {
  "kernelspec": {
   "display_name": "Python 3",
   "language": "python",
   "name": "python3"
  },
  "language_info": {
   "codemirror_mode": {
    "name": "ipython",
    "version": 3
   },
   "file_extension": ".py",
   "mimetype": "text/x-python",
   "name": "python",
   "nbconvert_exporter": "python",
   "pygments_lexer": "ipython3",
   "version": "3.8.3"
  }
 },
 "nbformat": 4,
 "nbformat_minor": 4
}
